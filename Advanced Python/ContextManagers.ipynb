{
 "cells": [
  {
   "cell_type": "markdown",
   "id": "6c1eb0b7-4488-4278-a05a-0616eda7975a",
   "metadata": {},
   "source": [
    "# Context managers (__enter__, __exit__)"
   ]
  },
  {
   "cell_type": "code",
   "execution_count": 24,
   "id": "3b2d22db-a6ac-43af-8f84-26e3a2066468",
   "metadata": {},
   "outputs": [],
   "source": [
    "class File:\n",
    "    def __init__(self, file_name, mode='r'):\n",
    "        self.file_name = file_name\n",
    "        self.mode = mode\n",
    "\n",
    "    def __enter__(self):\n",
    "        print(\"Enter\")\n",
    "        self.file = open(self.file_name, self.mode)\n",
    "        return self.file\n",
    "\n",
    "    def __exit__(self, exc_type, exc_value, exc_tb):\n",
    "        print(\"Exit\")\n",
    "        print(exc_type)\n",
    "        print(exc_value)\n",
    "        print(exc_tb)\n",
    "        f.close()\n",
    "        # If __exit__ returns True, it suppresses the exception.\n",
    "        # return True"
   ]
  },
  {
   "cell_type": "code",
   "execution_count": 25,
   "id": "e09ad3be-6053-4e88-93ab-c80c23dd82cf",
   "metadata": {},
   "outputs": [
    {
     "name": "stdout",
     "output_type": "stream",
     "text": [
      "Enter\n",
      "['\\n', '\\n', '<!DOCTYPE html>\\n', '<html>\\n', '<head>\\n']\n",
      "Exit\n",
      "None\n",
      "None\n",
      "None\n"
     ]
    }
   ],
   "source": [
    "with File('snake.html') as f:\n",
    "    print(f.readlines()[:5])\n",
    "    # raise Exception('Error')"
   ]
  },
  {
   "cell_type": "markdown",
   "id": "265db5de-86b9-4107-a647-4fafc9c2d7ba",
   "metadata": {},
   "source": [
    "## Using contextlib"
   ]
  },
  {
   "cell_type": "code",
   "execution_count": 16,
   "id": "3f3fabd8-fb6a-4517-bfcc-ca35be159966",
   "metadata": {},
   "outputs": [],
   "source": [
    "from contextlib import contextmanager\n",
    "\n",
    "@contextmanager\n",
    "def file(file_name, mode='r'):\n",
    "    try:\n",
    "        print(\"Enter\")\n",
    "        f = open(file_name, mode)\n",
    "        yield f\n",
    "    finally:\n",
    "        print(\"Exit\")\n",
    "        f.close()"
   ]
  },
  {
   "cell_type": "code",
   "execution_count": 17,
   "id": "557573d5-fc34-49de-8fff-3a5de8201909",
   "metadata": {},
   "outputs": [
    {
     "name": "stdout",
     "output_type": "stream",
     "text": [
      "Enter\n",
      "['\\n', '\\n', '<!DOCTYPE html>\\n', '<html>\\n', '<head>\\n']\n",
      "Exit\n"
     ]
    }
   ],
   "source": [
    "with file('snake.html') as f:\n",
    "    print(f.readlines()[:5])"
   ]
  },
  {
   "cell_type": "code",
   "execution_count": null,
   "id": "c0d8a9bd-05b8-428e-a830-7fa841596196",
   "metadata": {},
   "outputs": [],
   "source": [
    "class SuppressException:\n",
    "    def __enter__(self):\n",
    "        print(\"Entered\")\n",
    "    \n",
    "    def __exit__(self, exc_type, exc_val, exc_tb):\n",
    "        print(\"Exception:\", exc_type)\n",
    "        return True  # suppresses exception\n",
    "\n",
    "with SuppressException():\n",
    "    1 / 0  # ZeroDivisionError, but suppressed\n",
    "\n",
    "print(\"Continues...\")\n"
   ]
  },
  {
   "cell_type": "markdown",
   "id": "66bfceee-34ec-4ddf-b8f3-95ce592a75ad",
   "metadata": {},
   "source": [
    "| Method      | Purpose                                       |\n",
    "| ----------- | --------------------------------------------- |\n",
    "| `__enter__` | Setup resource and return it                  |\n",
    "| `__exit__`  | Cleanup and handle exceptions                 |\n",
    "| `with`      | Calls `__enter__` at start, `__exit__` at end |\n"
   ]
  },
  {
   "cell_type": "code",
   "execution_count": null,
   "id": "7d372223-538a-43ef-a7a4-334e89db6416",
   "metadata": {},
   "outputs": [],
   "source": []
  },
  {
   "cell_type": "code",
   "execution_count": null,
   "id": "ccb0e573-d4c7-47f4-8718-10b104d329be",
   "metadata": {},
   "outputs": [],
   "source": []
  },
  {
   "cell_type": "code",
   "execution_count": null,
   "id": "045a95b6-43e4-4888-828d-eb66f8802445",
   "metadata": {},
   "outputs": [],
   "source": []
  }
 ],
 "metadata": {
  "kernelspec": {
   "display_name": "Python 3 (ipykernel)",
   "language": "python",
   "name": "python3"
  },
  "language_info": {
   "codemirror_mode": {
    "name": "ipython",
    "version": 3
   },
   "file_extension": ".py",
   "mimetype": "text/x-python",
   "name": "python",
   "nbconvert_exporter": "python",
   "pygments_lexer": "ipython3",
   "version": "3.11.0"
  }
 },
 "nbformat": 4,
 "nbformat_minor": 5
}
